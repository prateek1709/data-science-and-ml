{
 "cells": [
  {
   "cell_type": "code",
   "execution_count": 1,
   "metadata": {
    "collapsed": true
   },
   "outputs": [],
   "source": [
    "#Author:Prateek Kumar\n",
    "#Welcome to Pandas Overview\n",
    "#This notebook provides a quick overview of some of the functionalities of Pandas"
   ]
  },
  {
   "cell_type": "code",
   "execution_count": 3,
   "metadata": {},
   "outputs": [
    {
     "data": {
      "text/plain": [
       "0    10.0\n",
       "1    20.0\n",
       "2    30.0\n",
       "3    40.0\n",
       "4     NaN\n",
       "5    50.0\n",
       "dtype: float64"
      ]
     },
     "execution_count": 3,
     "metadata": {},
     "output_type": "execute_result"
    }
   ],
   "source": [
    "##Creating an object in Pandas:\n",
    "import pandas as pd \n",
    "import numpy as np\n",
    "series = pd.Series([10,20,30,40,np.nan,50])\n",
    "series"
   ]
  },
  {
   "cell_type": "code",
   "execution_count": 10,
   "metadata": {},
   "outputs": [
    {
     "data": {
      "text/html": [
       "<div>\n",
       "<style>\n",
       "    .dataframe thead tr:only-child th {\n",
       "        text-align: right;\n",
       "    }\n",
       "\n",
       "    .dataframe thead th {\n",
       "        text-align: left;\n",
       "    }\n",
       "\n",
       "    .dataframe tbody tr th {\n",
       "        vertical-align: top;\n",
       "    }\n",
       "</style>\n",
       "<table border=\"1\" class=\"dataframe\">\n",
       "  <thead>\n",
       "    <tr style=\"text-align: right;\">\n",
       "      <th></th>\n",
       "      <th>A</th>\n",
       "      <th>B</th>\n",
       "      <th>C</th>\n",
       "      <th>D</th>\n",
       "      <th>E</th>\n",
       "    </tr>\n",
       "  </thead>\n",
       "  <tbody>\n",
       "    <tr>\n",
       "      <th>2019-01-01</th>\n",
       "      <td>0.006935</td>\n",
       "      <td>0.461974</td>\n",
       "      <td>1.051642</td>\n",
       "      <td>-0.497084</td>\n",
       "      <td>0.522261</td>\n",
       "    </tr>\n",
       "    <tr>\n",
       "      <th>2019-01-02</th>\n",
       "      <td>-1.077388</td>\n",
       "      <td>0.217421</td>\n",
       "      <td>-1.497766</td>\n",
       "      <td>-1.385251</td>\n",
       "      <td>0.554756</td>\n",
       "    </tr>\n",
       "    <tr>\n",
       "      <th>2019-01-03</th>\n",
       "      <td>0.244553</td>\n",
       "      <td>-2.501543</td>\n",
       "      <td>0.141142</td>\n",
       "      <td>-0.335015</td>\n",
       "      <td>0.164692</td>\n",
       "    </tr>\n",
       "    <tr>\n",
       "      <th>2019-01-04</th>\n",
       "      <td>-1.896036</td>\n",
       "      <td>0.397065</td>\n",
       "      <td>1.354163</td>\n",
       "      <td>0.568667</td>\n",
       "      <td>0.400316</td>\n",
       "    </tr>\n",
       "    <tr>\n",
       "      <th>2019-01-05</th>\n",
       "      <td>1.735372</td>\n",
       "      <td>-0.337229</td>\n",
       "      <td>-0.384871</td>\n",
       "      <td>-0.590829</td>\n",
       "      <td>-1.581412</td>\n",
       "    </tr>\n",
       "  </tbody>\n",
       "</table>\n",
       "</div>"
      ],
      "text/plain": [
       "                   A         B         C         D         E\n",
       "2019-01-01  0.006935  0.461974  1.051642 -0.497084  0.522261\n",
       "2019-01-02 -1.077388  0.217421 -1.497766 -1.385251  0.554756\n",
       "2019-01-03  0.244553 -2.501543  0.141142 -0.335015  0.164692\n",
       "2019-01-04 -1.896036  0.397065  1.354163  0.568667  0.400316\n",
       "2019-01-05  1.735372 -0.337229 -0.384871 -0.590829 -1.581412"
      ]
     },
     "execution_count": 10,
     "metadata": {},
     "output_type": "execute_result"
    }
   ],
   "source": [
    "##Creating a DataFrame by passing a NumPy array, with a datetime index and labeled columns:\n",
    "#Creating the range:\n",
    "dates = pd.date_range('20190101', periods=5)\n",
    "dates\n",
    "#Creating the dataframe:\n",
    "df = pd.DataFrame(np.random.randn(5,5), index=dates, columns=list('ABCDE'))\n",
    "df"
   ]
  },
  {
   "cell_type": "code",
   "execution_count": 17,
   "metadata": {
    "scrolled": true
   },
   "outputs": [
    {
     "data": {
      "text/html": [
       "<div>\n",
       "<style>\n",
       "    .dataframe thead tr:only-child th {\n",
       "        text-align: right;\n",
       "    }\n",
       "\n",
       "    .dataframe thead th {\n",
       "        text-align: left;\n",
       "    }\n",
       "\n",
       "    .dataframe tbody tr th {\n",
       "        vertical-align: top;\n",
       "    }\n",
       "</style>\n",
       "<table border=\"1\" class=\"dataframe\">\n",
       "  <thead>\n",
       "    <tr style=\"text-align: right;\">\n",
       "      <th></th>\n",
       "      <th>A</th>\n",
       "      <th>B</th>\n",
       "      <th>C</th>\n",
       "      <th>D</th>\n",
       "      <th>E</th>\n",
       "      <th>F</th>\n",
       "    </tr>\n",
       "  </thead>\n",
       "  <tbody>\n",
       "    <tr>\n",
       "      <th>0</th>\n",
       "      <td>1.0</td>\n",
       "      <td>2019-01-01</td>\n",
       "      <td>1.0</td>\n",
       "      <td>3</td>\n",
       "      <td>Test</td>\n",
       "      <td>foo</td>\n",
       "    </tr>\n",
       "    <tr>\n",
       "      <th>1</th>\n",
       "      <td>1.0</td>\n",
       "      <td>2019-01-01</td>\n",
       "      <td>1.0</td>\n",
       "      <td>3</td>\n",
       "      <td>Train</td>\n",
       "      <td>foo</td>\n",
       "    </tr>\n",
       "    <tr>\n",
       "      <th>2</th>\n",
       "      <td>1.0</td>\n",
       "      <td>2019-01-01</td>\n",
       "      <td>1.0</td>\n",
       "      <td>3</td>\n",
       "      <td>Test</td>\n",
       "      <td>foo</td>\n",
       "    </tr>\n",
       "    <tr>\n",
       "      <th>3</th>\n",
       "      <td>1.0</td>\n",
       "      <td>2019-01-01</td>\n",
       "      <td>1.0</td>\n",
       "      <td>3</td>\n",
       "      <td>Train</td>\n",
       "      <td>foo</td>\n",
       "    </tr>\n",
       "  </tbody>\n",
       "</table>\n",
       "</div>"
      ],
      "text/plain": [
       "     A          B    C  D      E    F\n",
       "0  1.0 2019-01-01  1.0  3   Test  foo\n",
       "1  1.0 2019-01-01  1.0  3  Train  foo\n",
       "2  1.0 2019-01-01  1.0  3   Test  foo\n",
       "3  1.0 2019-01-01  1.0  3  Train  foo"
      ]
     },
     "execution_count": 17,
     "metadata": {},
     "output_type": "execute_result"
    }
   ],
   "source": [
    "##Creating a DataFrame by passing a dict of objects that can be converted to series-like.\n",
    "df2 = pd.DataFrame({'A': pd.Series(1, range(4), dtype='float32'),\n",
    "                   'B': pd.Timestamp('20190101'),\n",
    "                   'C': 1.0,\n",
    "                   'D': np.array([3]*4),\n",
    "                   'E': pd.Categorical([\"Test\",\"Train\",\"Test\",\"Train\"]),\n",
    "                   'F': 'foo'})\n",
    "df2\n"
   ]
  },
  {
   "cell_type": "code",
   "execution_count": 25,
   "metadata": {},
   "outputs": [
    {
     "data": {
      "text/plain": [
       "A           float32\n",
       "B    datetime64[ns]\n",
       "C           float64\n",
       "D             int32\n",
       "E          category\n",
       "F            object\n",
       "dtype: object"
      ]
     },
     "execution_count": 25,
     "metadata": {},
     "output_type": "execute_result"
    }
   ],
   "source": [
    "##Datatypes we have in df2:\n",
    "df2.dtypes"
   ]
  },
  {
   "cell_type": "code",
   "execution_count": 34,
   "metadata": {},
   "outputs": [
    {
     "data": {
      "text/html": [
       "<div>\n",
       "<style>\n",
       "    .dataframe thead tr:only-child th {\n",
       "        text-align: right;\n",
       "    }\n",
       "\n",
       "    .dataframe thead th {\n",
       "        text-align: left;\n",
       "    }\n",
       "\n",
       "    .dataframe tbody tr th {\n",
       "        vertical-align: top;\n",
       "    }\n",
       "</style>\n",
       "<table border=\"1\" class=\"dataframe\">\n",
       "  <thead>\n",
       "    <tr style=\"text-align: right;\">\n",
       "      <th></th>\n",
       "      <th>A</th>\n",
       "      <th>B</th>\n",
       "      <th>C</th>\n",
       "      <th>D</th>\n",
       "      <th>E</th>\n",
       "    </tr>\n",
       "  </thead>\n",
       "  <tbody>\n",
       "    <tr>\n",
       "      <th>2019-01-01</th>\n",
       "      <td>2.431367</td>\n",
       "      <td>-0.927792</td>\n",
       "      <td>-1.194827</td>\n",
       "      <td>-0.211244</td>\n",
       "      <td>0.205602</td>\n",
       "    </tr>\n",
       "    <tr>\n",
       "      <th>2019-01-02</th>\n",
       "      <td>-0.399373</td>\n",
       "      <td>0.266713</td>\n",
       "      <td>-0.291619</td>\n",
       "      <td>-0.532092</td>\n",
       "      <td>0.611213</td>\n",
       "    </tr>\n",
       "    <tr>\n",
       "      <th>2019-01-03</th>\n",
       "      <td>-1.366881</td>\n",
       "      <td>0.329066</td>\n",
       "      <td>0.119593</td>\n",
       "      <td>-0.163184</td>\n",
       "      <td>0.091400</td>\n",
       "    </tr>\n",
       "    <tr>\n",
       "      <th>2019-01-04</th>\n",
       "      <td>-0.229499</td>\n",
       "      <td>0.818679</td>\n",
       "      <td>0.667113</td>\n",
       "      <td>-0.522301</td>\n",
       "      <td>0.606303</td>\n",
       "    </tr>\n",
       "    <tr>\n",
       "      <th>2019-01-05</th>\n",
       "      <td>0.254685</td>\n",
       "      <td>0.081618</td>\n",
       "      <td>0.864098</td>\n",
       "      <td>0.015784</td>\n",
       "      <td>-0.621372</td>\n",
       "    </tr>\n",
       "  </tbody>\n",
       "</table>\n",
       "</div>"
      ],
      "text/plain": [
       "                   A         B         C         D         E\n",
       "2019-01-01  2.431367 -0.927792 -1.194827 -0.211244  0.205602\n",
       "2019-01-02 -0.399373  0.266713 -0.291619 -0.532092  0.611213\n",
       "2019-01-03 -1.366881  0.329066  0.119593 -0.163184  0.091400\n",
       "2019-01-04 -0.229499  0.818679  0.667113 -0.522301  0.606303\n",
       "2019-01-05  0.254685  0.081618  0.864098  0.015784 -0.621372"
      ]
     },
     "execution_count": 34,
     "metadata": {},
     "output_type": "execute_result"
    }
   ],
   "source": [
    "#Viewing data from Top:\n",
    "df.head()"
   ]
  },
  {
   "cell_type": "code",
   "execution_count": 36,
   "metadata": {},
   "outputs": [
    {
     "data": {
      "text/html": [
       "<div>\n",
       "<style>\n",
       "    .dataframe thead tr:only-child th {\n",
       "        text-align: right;\n",
       "    }\n",
       "\n",
       "    .dataframe thead th {\n",
       "        text-align: left;\n",
       "    }\n",
       "\n",
       "    .dataframe tbody tr th {\n",
       "        vertical-align: top;\n",
       "    }\n",
       "</style>\n",
       "<table border=\"1\" class=\"dataframe\">\n",
       "  <thead>\n",
       "    <tr style=\"text-align: right;\">\n",
       "      <th></th>\n",
       "      <th>A</th>\n",
       "      <th>B</th>\n",
       "      <th>C</th>\n",
       "      <th>D</th>\n",
       "      <th>E</th>\n",
       "    </tr>\n",
       "  </thead>\n",
       "  <tbody>\n",
       "    <tr>\n",
       "      <th>2019-01-03</th>\n",
       "      <td>-1.366881</td>\n",
       "      <td>0.329066</td>\n",
       "      <td>0.119593</td>\n",
       "      <td>-0.163184</td>\n",
       "      <td>0.091400</td>\n",
       "    </tr>\n",
       "    <tr>\n",
       "      <th>2019-01-04</th>\n",
       "      <td>-0.229499</td>\n",
       "      <td>0.818679</td>\n",
       "      <td>0.667113</td>\n",
       "      <td>-0.522301</td>\n",
       "      <td>0.606303</td>\n",
       "    </tr>\n",
       "    <tr>\n",
       "      <th>2019-01-05</th>\n",
       "      <td>0.254685</td>\n",
       "      <td>0.081618</td>\n",
       "      <td>0.864098</td>\n",
       "      <td>0.015784</td>\n",
       "      <td>-0.621372</td>\n",
       "    </tr>\n",
       "  </tbody>\n",
       "</table>\n",
       "</div>"
      ],
      "text/plain": [
       "                   A         B         C         D         E\n",
       "2019-01-03 -1.366881  0.329066  0.119593 -0.163184  0.091400\n",
       "2019-01-04 -0.229499  0.818679  0.667113 -0.522301  0.606303\n",
       "2019-01-05  0.254685  0.081618  0.864098  0.015784 -0.621372"
      ]
     },
     "execution_count": 36,
     "metadata": {},
     "output_type": "execute_result"
    }
   ],
   "source": [
    "#Viewing from Bottom:\n",
    "df.tail(3)"
   ]
  },
  {
   "cell_type": "code",
   "execution_count": 5,
   "metadata": {},
   "outputs": [
    {
     "data": {
      "text/html": [
       "<div>\n",
       "<style>\n",
       "    .dataframe thead tr:only-child th {\n",
       "        text-align: right;\n",
       "    }\n",
       "\n",
       "    .dataframe thead th {\n",
       "        text-align: left;\n",
       "    }\n",
       "\n",
       "    .dataframe tbody tr th {\n",
       "        vertical-align: top;\n",
       "    }\n",
       "</style>\n",
       "<table border=\"1\" class=\"dataframe\">\n",
       "  <thead>\n",
       "    <tr style=\"text-align: right;\">\n",
       "      <th></th>\n",
       "      <th>A</th>\n",
       "      <th>B</th>\n",
       "      <th>C</th>\n",
       "      <th>D</th>\n",
       "      <th>E</th>\n",
       "    </tr>\n",
       "  </thead>\n",
       "  <tbody>\n",
       "    <tr>\n",
       "      <th>count</th>\n",
       "      <td>5.000000</td>\n",
       "      <td>5.000000</td>\n",
       "      <td>5.000000</td>\n",
       "      <td>5.000000</td>\n",
       "      <td>5.000000</td>\n",
       "    </tr>\n",
       "    <tr>\n",
       "      <th>mean</th>\n",
       "      <td>-1.016783</td>\n",
       "      <td>-0.069601</td>\n",
       "      <td>0.250003</td>\n",
       "      <td>0.071050</td>\n",
       "      <td>0.527266</td>\n",
       "    </tr>\n",
       "    <tr>\n",
       "      <th>std</th>\n",
       "      <td>0.561005</td>\n",
       "      <td>0.531811</td>\n",
       "      <td>0.529203</td>\n",
       "      <td>0.917021</td>\n",
       "      <td>0.919931</td>\n",
       "    </tr>\n",
       "    <tr>\n",
       "      <th>min</th>\n",
       "      <td>-1.915240</td>\n",
       "      <td>-0.532938</td>\n",
       "      <td>-0.555517</td>\n",
       "      <td>-0.968133</td>\n",
       "      <td>-0.680730</td>\n",
       "    </tr>\n",
       "    <tr>\n",
       "      <th>25%</th>\n",
       "      <td>-1.168033</td>\n",
       "      <td>-0.402522</td>\n",
       "      <td>0.075020</td>\n",
       "      <td>-0.597560</td>\n",
       "      <td>-0.198525</td>\n",
       "    </tr>\n",
       "    <tr>\n",
       "      <th>50%</th>\n",
       "      <td>-0.862101</td>\n",
       "      <td>-0.222363</td>\n",
       "      <td>0.307144</td>\n",
       "      <td>0.109184</td>\n",
       "      <td>0.876944</td>\n",
       "    </tr>\n",
       "    <tr>\n",
       "      <th>75%</th>\n",
       "      <td>-0.615870</td>\n",
       "      <td>-0.002599</td>\n",
       "      <td>0.636924</td>\n",
       "      <td>0.436076</td>\n",
       "      <td>1.214214</td>\n",
       "    </tr>\n",
       "    <tr>\n",
       "      <th>max</th>\n",
       "      <td>-0.522669</td>\n",
       "      <td>0.812414</td>\n",
       "      <td>0.786445</td>\n",
       "      <td>1.375685</td>\n",
       "      <td>1.424425</td>\n",
       "    </tr>\n",
       "  </tbody>\n",
       "</table>\n",
       "</div>"
      ],
      "text/plain": [
       "              A         B         C         D         E\n",
       "count  5.000000  5.000000  5.000000  5.000000  5.000000\n",
       "mean  -1.016783 -0.069601  0.250003  0.071050  0.527266\n",
       "std    0.561005  0.531811  0.529203  0.917021  0.919931\n",
       "min   -1.915240 -0.532938 -0.555517 -0.968133 -0.680730\n",
       "25%   -1.168033 -0.402522  0.075020 -0.597560 -0.198525\n",
       "50%   -0.862101 -0.222363  0.307144  0.109184  0.876944\n",
       "75%   -0.615870 -0.002599  0.636924  0.436076  1.214214\n",
       "max   -0.522669  0.812414  0.786445  1.375685  1.424425"
      ]
     },
     "execution_count": 5,
     "metadata": {},
     "output_type": "execute_result"
    }
   ],
   "source": [
    "##Viewing Statistics about data:\n",
    "df.describe()"
   ]
  },
  {
   "cell_type": "code",
   "execution_count": 13,
   "metadata": {},
   "outputs": [
    {
     "data": {
      "text/html": [
       "<div>\n",
       "<style>\n",
       "    .dataframe thead tr:only-child th {\n",
       "        text-align: right;\n",
       "    }\n",
       "\n",
       "    .dataframe thead th {\n",
       "        text-align: left;\n",
       "    }\n",
       "\n",
       "    .dataframe tbody tr th {\n",
       "        vertical-align: top;\n",
       "    }\n",
       "</style>\n",
       "<table border=\"1\" class=\"dataframe\">\n",
       "  <thead>\n",
       "    <tr style=\"text-align: right;\">\n",
       "      <th></th>\n",
       "      <th>2019-01-01 00:00:00</th>\n",
       "      <th>2019-01-02 00:00:00</th>\n",
       "      <th>2019-01-03 00:00:00</th>\n",
       "      <th>2019-01-04 00:00:00</th>\n",
       "      <th>2019-01-05 00:00:00</th>\n",
       "    </tr>\n",
       "  </thead>\n",
       "  <tbody>\n",
       "    <tr>\n",
       "      <th>A</th>\n",
       "      <td>0.006935</td>\n",
       "      <td>-1.077388</td>\n",
       "      <td>0.244553</td>\n",
       "      <td>-1.896036</td>\n",
       "      <td>1.735372</td>\n",
       "    </tr>\n",
       "    <tr>\n",
       "      <th>B</th>\n",
       "      <td>0.461974</td>\n",
       "      <td>0.217421</td>\n",
       "      <td>-2.501543</td>\n",
       "      <td>0.397065</td>\n",
       "      <td>-0.337229</td>\n",
       "    </tr>\n",
       "    <tr>\n",
       "      <th>C</th>\n",
       "      <td>1.051642</td>\n",
       "      <td>-1.497766</td>\n",
       "      <td>0.141142</td>\n",
       "      <td>1.354163</td>\n",
       "      <td>-0.384871</td>\n",
       "    </tr>\n",
       "    <tr>\n",
       "      <th>D</th>\n",
       "      <td>-0.497084</td>\n",
       "      <td>-1.385251</td>\n",
       "      <td>-0.335015</td>\n",
       "      <td>0.568667</td>\n",
       "      <td>-0.590829</td>\n",
       "    </tr>\n",
       "    <tr>\n",
       "      <th>E</th>\n",
       "      <td>0.522261</td>\n",
       "      <td>0.554756</td>\n",
       "      <td>0.164692</td>\n",
       "      <td>0.400316</td>\n",
       "      <td>-1.581412</td>\n",
       "    </tr>\n",
       "  </tbody>\n",
       "</table>\n",
       "</div>"
      ],
      "text/plain": [
       "   2019-01-01  2019-01-02  2019-01-03  2019-01-04  2019-01-05\n",
       "A    0.006935   -1.077388    0.244553   -1.896036    1.735372\n",
       "B    0.461974    0.217421   -2.501543    0.397065   -0.337229\n",
       "C    1.051642   -1.497766    0.141142    1.354163   -0.384871\n",
       "D   -0.497084   -1.385251   -0.335015    0.568667   -0.590829\n",
       "E    0.522261    0.554756    0.164692    0.400316   -1.581412"
      ]
     },
     "execution_count": 13,
     "metadata": {},
     "output_type": "execute_result"
    }
   ],
   "source": [
    "##Transposing:\n",
    "df.transpose()"
   ]
  },
  {
   "cell_type": "code",
   "execution_count": 7,
   "metadata": {},
   "outputs": [
    {
     "data": {
      "text/html": [
       "<div>\n",
       "<style>\n",
       "    .dataframe thead tr:only-child th {\n",
       "        text-align: right;\n",
       "    }\n",
       "\n",
       "    .dataframe thead th {\n",
       "        text-align: left;\n",
       "    }\n",
       "\n",
       "    .dataframe tbody tr th {\n",
       "        vertical-align: top;\n",
       "    }\n",
       "</style>\n",
       "<table border=\"1\" class=\"dataframe\">\n",
       "  <thead>\n",
       "    <tr style=\"text-align: right;\">\n",
       "      <th></th>\n",
       "      <th>A</th>\n",
       "      <th>B</th>\n",
       "      <th>C</th>\n",
       "      <th>D</th>\n",
       "      <th>E</th>\n",
       "    </tr>\n",
       "  </thead>\n",
       "  <tbody>\n",
       "    <tr>\n",
       "      <th>2019-01-01</th>\n",
       "      <td>-0.862101</td>\n",
       "      <td>-0.402522</td>\n",
       "      <td>0.307144</td>\n",
       "      <td>0.109184</td>\n",
       "      <td>0.876944</td>\n",
       "    </tr>\n",
       "    <tr>\n",
       "      <th>2019-01-02</th>\n",
       "      <td>-0.522669</td>\n",
       "      <td>-0.532938</td>\n",
       "      <td>0.636924</td>\n",
       "      <td>0.436076</td>\n",
       "      <td>1.424425</td>\n",
       "    </tr>\n",
       "    <tr>\n",
       "      <th>2019-01-03</th>\n",
       "      <td>-1.915240</td>\n",
       "      <td>-0.002599</td>\n",
       "      <td>0.786445</td>\n",
       "      <td>-0.968133</td>\n",
       "      <td>1.214214</td>\n",
       "    </tr>\n",
       "    <tr>\n",
       "      <th>2019-01-04</th>\n",
       "      <td>-1.168033</td>\n",
       "      <td>-0.222363</td>\n",
       "      <td>0.075020</td>\n",
       "      <td>1.375685</td>\n",
       "      <td>-0.680730</td>\n",
       "    </tr>\n",
       "    <tr>\n",
       "      <th>2019-01-05</th>\n",
       "      <td>-0.615870</td>\n",
       "      <td>0.812414</td>\n",
       "      <td>-0.555517</td>\n",
       "      <td>-0.597560</td>\n",
       "      <td>-0.198525</td>\n",
       "    </tr>\n",
       "  </tbody>\n",
       "</table>\n",
       "</div>"
      ],
      "text/plain": [
       "                   A         B         C         D         E\n",
       "2019-01-01 -0.862101 -0.402522  0.307144  0.109184  0.876944\n",
       "2019-01-02 -0.522669 -0.532938  0.636924  0.436076  1.424425\n",
       "2019-01-03 -1.915240 -0.002599  0.786445 -0.968133  1.214214\n",
       "2019-01-04 -1.168033 -0.222363  0.075020  1.375685 -0.680730\n",
       "2019-01-05 -0.615870  0.812414 -0.555517 -0.597560 -0.198525"
      ]
     },
     "execution_count": 7,
     "metadata": {},
     "output_type": "execute_result"
    }
   ],
   "source": [
    "##Sorting by Axis:\n",
    "df.sort_index(axis=1, ascending=True)"
   ]
  },
  {
   "cell_type": "code",
   "execution_count": 8,
   "metadata": {},
   "outputs": [
    {
     "data": {
      "text/html": [
       "<div>\n",
       "<style>\n",
       "    .dataframe thead tr:only-child th {\n",
       "        text-align: right;\n",
       "    }\n",
       "\n",
       "    .dataframe thead th {\n",
       "        text-align: left;\n",
       "    }\n",
       "\n",
       "    .dataframe tbody tr th {\n",
       "        vertical-align: top;\n",
       "    }\n",
       "</style>\n",
       "<table border=\"1\" class=\"dataframe\">\n",
       "  <thead>\n",
       "    <tr style=\"text-align: right;\">\n",
       "      <th></th>\n",
       "      <th>A</th>\n",
       "      <th>B</th>\n",
       "      <th>C</th>\n",
       "      <th>D</th>\n",
       "      <th>E</th>\n",
       "    </tr>\n",
       "  </thead>\n",
       "  <tbody>\n",
       "    <tr>\n",
       "      <th>2019-01-03</th>\n",
       "      <td>-1.915240</td>\n",
       "      <td>-0.002599</td>\n",
       "      <td>0.786445</td>\n",
       "      <td>-0.968133</td>\n",
       "      <td>1.214214</td>\n",
       "    </tr>\n",
       "    <tr>\n",
       "      <th>2019-01-04</th>\n",
       "      <td>-1.168033</td>\n",
       "      <td>-0.222363</td>\n",
       "      <td>0.075020</td>\n",
       "      <td>1.375685</td>\n",
       "      <td>-0.680730</td>\n",
       "    </tr>\n",
       "    <tr>\n",
       "      <th>2019-01-01</th>\n",
       "      <td>-0.862101</td>\n",
       "      <td>-0.402522</td>\n",
       "      <td>0.307144</td>\n",
       "      <td>0.109184</td>\n",
       "      <td>0.876944</td>\n",
       "    </tr>\n",
       "    <tr>\n",
       "      <th>2019-01-05</th>\n",
       "      <td>-0.615870</td>\n",
       "      <td>0.812414</td>\n",
       "      <td>-0.555517</td>\n",
       "      <td>-0.597560</td>\n",
       "      <td>-0.198525</td>\n",
       "    </tr>\n",
       "    <tr>\n",
       "      <th>2019-01-02</th>\n",
       "      <td>-0.522669</td>\n",
       "      <td>-0.532938</td>\n",
       "      <td>0.636924</td>\n",
       "      <td>0.436076</td>\n",
       "      <td>1.424425</td>\n",
       "    </tr>\n",
       "  </tbody>\n",
       "</table>\n",
       "</div>"
      ],
      "text/plain": [
       "                   A         B         C         D         E\n",
       "2019-01-03 -1.915240 -0.002599  0.786445 -0.968133  1.214214\n",
       "2019-01-04 -1.168033 -0.222363  0.075020  1.375685 -0.680730\n",
       "2019-01-01 -0.862101 -0.402522  0.307144  0.109184  0.876944\n",
       "2019-01-05 -0.615870  0.812414 -0.555517 -0.597560 -0.198525\n",
       "2019-01-02 -0.522669 -0.532938  0.636924  0.436076  1.424425"
      ]
     },
     "execution_count": 8,
     "metadata": {},
     "output_type": "execute_result"
    }
   ],
   "source": [
    "##Sorting by value:\n",
    "df.sort_values(by=['A','C'])"
   ]
  },
  {
   "cell_type": "code",
   "execution_count": 14,
   "metadata": {},
   "outputs": [
    {
     "data": {
      "text/plain": [
       "2019-01-01    0.006935\n",
       "2019-01-02   -1.077388\n",
       "2019-01-03    0.244553\n",
       "2019-01-04   -1.896036\n",
       "2019-01-05    1.735372\n",
       "Freq: D, Name: A, dtype: float64"
      ]
     },
     "execution_count": 14,
     "metadata": {},
     "output_type": "execute_result"
    }
   ],
   "source": [
    "##Getting:\n",
    "df['A']"
   ]
  },
  {
   "cell_type": "code",
   "execution_count": null,
   "metadata": {
    "collapsed": true
   },
   "outputs": [],
   "source": [
    "##Selection:"
   ]
  },
  {
   "cell_type": "code",
   "execution_count": 15,
   "metadata": {},
   "outputs": [
    {
     "data": {
      "text/html": [
       "<div>\n",
       "<style>\n",
       "    .dataframe thead tr:only-child th {\n",
       "        text-align: right;\n",
       "    }\n",
       "\n",
       "    .dataframe thead th {\n",
       "        text-align: left;\n",
       "    }\n",
       "\n",
       "    .dataframe tbody tr th {\n",
       "        vertical-align: top;\n",
       "    }\n",
       "</style>\n",
       "<table border=\"1\" class=\"dataframe\">\n",
       "  <thead>\n",
       "    <tr style=\"text-align: right;\">\n",
       "      <th></th>\n",
       "      <th>A</th>\n",
       "      <th>B</th>\n",
       "      <th>C</th>\n",
       "      <th>D</th>\n",
       "      <th>E</th>\n",
       "    </tr>\n",
       "  </thead>\n",
       "  <tbody>\n",
       "    <tr>\n",
       "      <th>2019-01-01</th>\n",
       "      <td>0.006935</td>\n",
       "      <td>0.461974</td>\n",
       "      <td>1.051642</td>\n",
       "      <td>-0.497084</td>\n",
       "      <td>0.522261</td>\n",
       "    </tr>\n",
       "    <tr>\n",
       "      <th>2019-01-02</th>\n",
       "      <td>-1.077388</td>\n",
       "      <td>0.217421</td>\n",
       "      <td>-1.497766</td>\n",
       "      <td>-1.385251</td>\n",
       "      <td>0.554756</td>\n",
       "    </tr>\n",
       "    <tr>\n",
       "      <th>2019-01-03</th>\n",
       "      <td>0.244553</td>\n",
       "      <td>-2.501543</td>\n",
       "      <td>0.141142</td>\n",
       "      <td>-0.335015</td>\n",
       "      <td>0.164692</td>\n",
       "    </tr>\n",
       "  </tbody>\n",
       "</table>\n",
       "</div>"
      ],
      "text/plain": [
       "                   A         B         C         D         E\n",
       "2019-01-01  0.006935  0.461974  1.051642 -0.497084  0.522261\n",
       "2019-01-02 -1.077388  0.217421 -1.497766 -1.385251  0.554756\n",
       "2019-01-03  0.244553 -2.501543  0.141142 -0.335015  0.164692"
      ]
     },
     "execution_count": 15,
     "metadata": {},
     "output_type": "execute_result"
    }
   ],
   "source": [
    "##Selecting via [], which slices the rows:\n",
    "df[0:3]"
   ]
  },
  {
   "cell_type": "code",
   "execution_count": 28,
   "metadata": {},
   "outputs": [
    {
     "data": {
      "text/plain": [
       "A    0.006935\n",
       "B    0.461974\n",
       "C    1.051642\n",
       "D   -0.497084\n",
       "E    0.522261\n",
       "Name: 2019-01-01 00:00:00, dtype: float64"
      ]
     },
     "execution_count": 28,
     "metadata": {},
     "output_type": "execute_result"
    }
   ],
   "source": [
    "##For getting a cross section using a label:\n",
    "df.loc[dates[0]]"
   ]
  },
  {
   "cell_type": "code",
   "execution_count": 29,
   "metadata": {},
   "outputs": [
    {
     "data": {
      "text/html": [
       "<div>\n",
       "<style>\n",
       "    .dataframe thead tr:only-child th {\n",
       "        text-align: right;\n",
       "    }\n",
       "\n",
       "    .dataframe thead th {\n",
       "        text-align: left;\n",
       "    }\n",
       "\n",
       "    .dataframe tbody tr th {\n",
       "        vertical-align: top;\n",
       "    }\n",
       "</style>\n",
       "<table border=\"1\" class=\"dataframe\">\n",
       "  <thead>\n",
       "    <tr style=\"text-align: right;\">\n",
       "      <th></th>\n",
       "      <th>A</th>\n",
       "      <th>B</th>\n",
       "    </tr>\n",
       "  </thead>\n",
       "  <tbody>\n",
       "    <tr>\n",
       "      <th>2019-01-01</th>\n",
       "      <td>0.006935</td>\n",
       "      <td>0.461974</td>\n",
       "    </tr>\n",
       "    <tr>\n",
       "      <th>2019-01-02</th>\n",
       "      <td>-1.077388</td>\n",
       "      <td>0.217421</td>\n",
       "    </tr>\n",
       "    <tr>\n",
       "      <th>2019-01-03</th>\n",
       "      <td>0.244553</td>\n",
       "      <td>-2.501543</td>\n",
       "    </tr>\n",
       "    <tr>\n",
       "      <th>2019-01-04</th>\n",
       "      <td>-1.896036</td>\n",
       "      <td>0.397065</td>\n",
       "    </tr>\n",
       "    <tr>\n",
       "      <th>2019-01-05</th>\n",
       "      <td>1.735372</td>\n",
       "      <td>-0.337229</td>\n",
       "    </tr>\n",
       "  </tbody>\n",
       "</table>\n",
       "</div>"
      ],
      "text/plain": [
       "                   A         B\n",
       "2019-01-01  0.006935  0.461974\n",
       "2019-01-02 -1.077388  0.217421\n",
       "2019-01-03  0.244553 -2.501543\n",
       "2019-01-04 -1.896036  0.397065\n",
       "2019-01-05  1.735372 -0.337229"
      ]
     },
     "execution_count": 29,
     "metadata": {},
     "output_type": "execute_result"
    }
   ],
   "source": [
    "##Selecting on a multi-axis by label:\n",
    "df.loc[:,['A','B']]"
   ]
  },
  {
   "cell_type": "code",
   "execution_count": 39,
   "metadata": {},
   "outputs": [
    {
     "data": {
      "text/html": [
       "<div>\n",
       "<style>\n",
       "    .dataframe thead tr:only-child th {\n",
       "        text-align: right;\n",
       "    }\n",
       "\n",
       "    .dataframe thead th {\n",
       "        text-align: left;\n",
       "    }\n",
       "\n",
       "    .dataframe tbody tr th {\n",
       "        vertical-align: top;\n",
       "    }\n",
       "</style>\n",
       "<table border=\"1\" class=\"dataframe\">\n",
       "  <thead>\n",
       "    <tr style=\"text-align: right;\">\n",
       "      <th></th>\n",
       "      <th>A</th>\n",
       "      <th>B</th>\n",
       "    </tr>\n",
       "  </thead>\n",
       "  <tbody>\n",
       "    <tr>\n",
       "      <th>2019-01-03</th>\n",
       "      <td>0.244553</td>\n",
       "      <td>-2.501543</td>\n",
       "    </tr>\n",
       "    <tr>\n",
       "      <th>2019-01-04</th>\n",
       "      <td>-1.896036</td>\n",
       "      <td>0.397065</td>\n",
       "    </tr>\n",
       "    <tr>\n",
       "      <th>2019-01-05</th>\n",
       "      <td>1.735372</td>\n",
       "      <td>-0.337229</td>\n",
       "    </tr>\n",
       "  </tbody>\n",
       "</table>\n",
       "</div>"
      ],
      "text/plain": [
       "                   A         B\n",
       "2019-01-03  0.244553 -2.501543\n",
       "2019-01-04 -1.896036  0.397065\n",
       "2019-01-05  1.735372 -0.337229"
      ]
     },
     "execution_count": 39,
     "metadata": {},
     "output_type": "execute_result"
    }
   ],
   "source": [
    "##Reduction in the dimensions of the returned object:\n",
    "df.loc['2019-01-03':,['A','B']]"
   ]
  },
  {
   "cell_type": "code",
   "execution_count": null,
   "metadata": {
    "collapsed": true
   },
   "outputs": [],
   "source": [
    "##Selection by Position:"
   ]
  },
  {
   "cell_type": "code",
   "execution_count": 42,
   "metadata": {},
   "outputs": [
    {
     "data": {
      "text/plain": [
       "A    0.244553\n",
       "B   -2.501543\n",
       "C    0.141142\n",
       "D   -0.335015\n",
       "E    0.164692\n",
       "Name: 2019-01-03 00:00:00, dtype: float64"
      ]
     },
     "execution_count": 42,
     "metadata": {},
     "output_type": "execute_result"
    }
   ],
   "source": [
    "#Select via the position of the passed integers:\n",
    "df.iloc[2]"
   ]
  },
  {
   "cell_type": "code",
   "execution_count": 53,
   "metadata": {},
   "outputs": [
    {
     "data": {
      "text/html": [
       "<div>\n",
       "<style>\n",
       "    .dataframe thead tr:only-child th {\n",
       "        text-align: right;\n",
       "    }\n",
       "\n",
       "    .dataframe thead th {\n",
       "        text-align: left;\n",
       "    }\n",
       "\n",
       "    .dataframe tbody tr th {\n",
       "        vertical-align: top;\n",
       "    }\n",
       "</style>\n",
       "<table border=\"1\" class=\"dataframe\">\n",
       "  <thead>\n",
       "    <tr style=\"text-align: right;\">\n",
       "      <th></th>\n",
       "      <th>A</th>\n",
       "      <th>B</th>\n",
       "      <th>C</th>\n",
       "    </tr>\n",
       "  </thead>\n",
       "  <tbody>\n",
       "    <tr>\n",
       "      <th>2019-01-03</th>\n",
       "      <td>0.244553</td>\n",
       "      <td>-2.501543</td>\n",
       "      <td>0.141142</td>\n",
       "    </tr>\n",
       "    <tr>\n",
       "      <th>2019-01-04</th>\n",
       "      <td>-1.896036</td>\n",
       "      <td>0.397065</td>\n",
       "      <td>1.354163</td>\n",
       "    </tr>\n",
       "  </tbody>\n",
       "</table>\n",
       "</div>"
      ],
      "text/plain": [
       "                   A         B         C\n",
       "2019-01-03  0.244553 -2.501543  0.141142\n",
       "2019-01-04 -1.896036  0.397065  1.354163"
      ]
     },
     "execution_count": 53,
     "metadata": {},
     "output_type": "execute_result"
    }
   ],
   "source": [
    "##Selection by integer slices:\n",
    "df.iloc[2:4, 0:3]    "
   ]
  },
  {
   "cell_type": "code",
   "execution_count": 55,
   "metadata": {},
   "outputs": [
    {
     "data": {
      "text/html": [
       "<div>\n",
       "<style>\n",
       "    .dataframe thead tr:only-child th {\n",
       "        text-align: right;\n",
       "    }\n",
       "\n",
       "    .dataframe thead th {\n",
       "        text-align: left;\n",
       "    }\n",
       "\n",
       "    .dataframe tbody tr th {\n",
       "        vertical-align: top;\n",
       "    }\n",
       "</style>\n",
       "<table border=\"1\" class=\"dataframe\">\n",
       "  <thead>\n",
       "    <tr style=\"text-align: right;\">\n",
       "      <th></th>\n",
       "      <th>A</th>\n",
       "      <th>C</th>\n",
       "    </tr>\n",
       "  </thead>\n",
       "  <tbody>\n",
       "    <tr>\n",
       "      <th>2019-01-02</th>\n",
       "      <td>-1.077388</td>\n",
       "      <td>-1.497766</td>\n",
       "    </tr>\n",
       "    <tr>\n",
       "      <th>2019-01-03</th>\n",
       "      <td>0.244553</td>\n",
       "      <td>0.141142</td>\n",
       "    </tr>\n",
       "    <tr>\n",
       "      <th>2019-01-05</th>\n",
       "      <td>1.735372</td>\n",
       "      <td>-0.384871</td>\n",
       "    </tr>\n",
       "  </tbody>\n",
       "</table>\n",
       "</div>"
      ],
      "text/plain": [
       "                   A         C\n",
       "2019-01-02 -1.077388 -1.497766\n",
       "2019-01-03  0.244553  0.141142\n",
       "2019-01-05  1.735372 -0.384871"
      ]
     },
     "execution_count": 55,
     "metadata": {},
     "output_type": "execute_result"
    }
   ],
   "source": [
    "##Selection by lists of integer position locations:\n",
    "df.iloc[[1, 2, 4], [0, 2]]"
   ]
  },
  {
   "cell_type": "code",
   "execution_count": null,
   "metadata": {},
   "outputs": [],
   "source": [
    "##Boolean Indexing"
   ]
  },
  {
   "cell_type": "code",
   "execution_count": 58,
   "metadata": {},
   "outputs": [
    {
     "data": {
      "text/html": [
       "<div>\n",
       "<style>\n",
       "    .dataframe thead tr:only-child th {\n",
       "        text-align: right;\n",
       "    }\n",
       "\n",
       "    .dataframe thead th {\n",
       "        text-align: left;\n",
       "    }\n",
       "\n",
       "    .dataframe tbody tr th {\n",
       "        vertical-align: top;\n",
       "    }\n",
       "</style>\n",
       "<table border=\"1\" class=\"dataframe\">\n",
       "  <thead>\n",
       "    <tr style=\"text-align: right;\">\n",
       "      <th></th>\n",
       "      <th>A</th>\n",
       "      <th>B</th>\n",
       "      <th>C</th>\n",
       "      <th>D</th>\n",
       "      <th>E</th>\n",
       "    </tr>\n",
       "  </thead>\n",
       "  <tbody>\n",
       "    <tr>\n",
       "      <th>2019-01-01</th>\n",
       "      <td>0.006935</td>\n",
       "      <td>0.461974</td>\n",
       "      <td>1.051642</td>\n",
       "      <td>-0.497084</td>\n",
       "      <td>0.522261</td>\n",
       "    </tr>\n",
       "    <tr>\n",
       "      <th>2019-01-03</th>\n",
       "      <td>0.244553</td>\n",
       "      <td>-2.501543</td>\n",
       "      <td>0.141142</td>\n",
       "      <td>-0.335015</td>\n",
       "      <td>0.164692</td>\n",
       "    </tr>\n",
       "    <tr>\n",
       "      <th>2019-01-05</th>\n",
       "      <td>1.735372</td>\n",
       "      <td>-0.337229</td>\n",
       "      <td>-0.384871</td>\n",
       "      <td>-0.590829</td>\n",
       "      <td>-1.581412</td>\n",
       "    </tr>\n",
       "  </tbody>\n",
       "</table>\n",
       "</div>"
      ],
      "text/plain": [
       "                   A         B         C         D         E\n",
       "2019-01-01  0.006935  0.461974  1.051642 -0.497084  0.522261\n",
       "2019-01-03  0.244553 -2.501543  0.141142 -0.335015  0.164692\n",
       "2019-01-05  1.735372 -0.337229 -0.384871 -0.590829 -1.581412"
      ]
     },
     "execution_count": 58,
     "metadata": {},
     "output_type": "execute_result"
    }
   ],
   "source": [
    "##Using a single column’s values to select data:\n",
    "df[df.A > 0]"
   ]
  },
  {
   "cell_type": "code",
   "execution_count": 59,
   "metadata": {},
   "outputs": [
    {
     "data": {
      "text/html": [
       "<div>\n",
       "<style>\n",
       "    .dataframe thead tr:only-child th {\n",
       "        text-align: right;\n",
       "    }\n",
       "\n",
       "    .dataframe thead th {\n",
       "        text-align: left;\n",
       "    }\n",
       "\n",
       "    .dataframe tbody tr th {\n",
       "        vertical-align: top;\n",
       "    }\n",
       "</style>\n",
       "<table border=\"1\" class=\"dataframe\">\n",
       "  <thead>\n",
       "    <tr style=\"text-align: right;\">\n",
       "      <th></th>\n",
       "      <th>A</th>\n",
       "      <th>B</th>\n",
       "      <th>C</th>\n",
       "      <th>D</th>\n",
       "      <th>E</th>\n",
       "    </tr>\n",
       "  </thead>\n",
       "  <tbody>\n",
       "    <tr>\n",
       "      <th>2019-01-01</th>\n",
       "      <td>0.006935</td>\n",
       "      <td>0.461974</td>\n",
       "      <td>1.051642</td>\n",
       "      <td>NaN</td>\n",
       "      <td>0.522261</td>\n",
       "    </tr>\n",
       "    <tr>\n",
       "      <th>2019-01-02</th>\n",
       "      <td>NaN</td>\n",
       "      <td>0.217421</td>\n",
       "      <td>NaN</td>\n",
       "      <td>NaN</td>\n",
       "      <td>0.554756</td>\n",
       "    </tr>\n",
       "    <tr>\n",
       "      <th>2019-01-03</th>\n",
       "      <td>0.244553</td>\n",
       "      <td>NaN</td>\n",
       "      <td>0.141142</td>\n",
       "      <td>NaN</td>\n",
       "      <td>0.164692</td>\n",
       "    </tr>\n",
       "    <tr>\n",
       "      <th>2019-01-04</th>\n",
       "      <td>NaN</td>\n",
       "      <td>0.397065</td>\n",
       "      <td>1.354163</td>\n",
       "      <td>0.568667</td>\n",
       "      <td>0.400316</td>\n",
       "    </tr>\n",
       "    <tr>\n",
       "      <th>2019-01-05</th>\n",
       "      <td>1.735372</td>\n",
       "      <td>NaN</td>\n",
       "      <td>NaN</td>\n",
       "      <td>NaN</td>\n",
       "      <td>NaN</td>\n",
       "    </tr>\n",
       "  </tbody>\n",
       "</table>\n",
       "</div>"
      ],
      "text/plain": [
       "                   A         B         C         D         E\n",
       "2019-01-01  0.006935  0.461974  1.051642       NaN  0.522261\n",
       "2019-01-02       NaN  0.217421       NaN       NaN  0.554756\n",
       "2019-01-03  0.244553       NaN  0.141142       NaN  0.164692\n",
       "2019-01-04       NaN  0.397065  1.354163  0.568667  0.400316\n",
       "2019-01-05  1.735372       NaN       NaN       NaN       NaN"
      ]
     },
     "execution_count": 59,
     "metadata": {},
     "output_type": "execute_result"
    }
   ],
   "source": [
    "##Selecting values from a DataFrame where a boolean condition is met:\n",
    "df[df > 0]"
   ]
  },
  {
   "cell_type": "code",
   "execution_count": 67,
   "metadata": {},
   "outputs": [
    {
     "data": {
      "text/html": [
       "<div>\n",
       "<style>\n",
       "    .dataframe thead tr:only-child th {\n",
       "        text-align: right;\n",
       "    }\n",
       "\n",
       "    .dataframe thead th {\n",
       "        text-align: left;\n",
       "    }\n",
       "\n",
       "    .dataframe tbody tr th {\n",
       "        vertical-align: top;\n",
       "    }\n",
       "</style>\n",
       "<table border=\"1\" class=\"dataframe\">\n",
       "  <thead>\n",
       "    <tr style=\"text-align: right;\">\n",
       "      <th></th>\n",
       "      <th>A</th>\n",
       "      <th>B</th>\n",
       "      <th>C</th>\n",
       "      <th>D</th>\n",
       "      <th>E</th>\n",
       "    </tr>\n",
       "  </thead>\n",
       "  <tbody>\n",
       "    <tr>\n",
       "      <th>2019-01-01</th>\n",
       "      <td>0.006935</td>\n",
       "      <td>0.461974</td>\n",
       "      <td>1.051642</td>\n",
       "      <td>-0.497084</td>\n",
       "      <td>0.522261</td>\n",
       "    </tr>\n",
       "    <tr>\n",
       "      <th>2019-01-04</th>\n",
       "      <td>-1.896036</td>\n",
       "      <td>0.397065</td>\n",
       "      <td>1.354163</td>\n",
       "      <td>0.568667</td>\n",
       "      <td>0.400316</td>\n",
       "    </tr>\n",
       "  </tbody>\n",
       "</table>\n",
       "</div>"
      ],
      "text/plain": [
       "                   A         B         C         D         E\n",
       "2019-01-01  0.006935  0.461974  1.051642 -0.497084  0.522261\n",
       "2019-01-04 -1.896036  0.397065  1.354163  0.568667  0.400316"
      ]
     },
     "execution_count": 67,
     "metadata": {},
     "output_type": "execute_result"
    }
   ],
   "source": [
    "##Using the isin() method for filtering:\n",
    "df3=df.copy()\n",
    "df3['E']=['one','two','three','one','two']\n",
    "df[df3['E'].isin(['one'])]"
   ]
  },
  {
   "cell_type": "code",
   "execution_count": null,
   "metadata": {
    "collapsed": true
   },
   "outputs": [],
   "source": [
    "##Missing Data:"
   ]
  },
  {
   "cell_type": "code",
   "execution_count": 107,
   "metadata": {},
   "outputs": [
    {
     "data": {
      "text/html": [
       "<div>\n",
       "<style>\n",
       "    .dataframe thead tr:only-child th {\n",
       "        text-align: right;\n",
       "    }\n",
       "\n",
       "    .dataframe thead th {\n",
       "        text-align: left;\n",
       "    }\n",
       "\n",
       "    .dataframe tbody tr th {\n",
       "        vertical-align: top;\n",
       "    }\n",
       "</style>\n",
       "<table border=\"1\" class=\"dataframe\">\n",
       "  <thead>\n",
       "    <tr style=\"text-align: right;\">\n",
       "      <th></th>\n",
       "      <th>A</th>\n",
       "      <th>B</th>\n",
       "      <th>C</th>\n",
       "      <th>D</th>\n",
       "      <th>E</th>\n",
       "    </tr>\n",
       "  </thead>\n",
       "  <tbody>\n",
       "    <tr>\n",
       "      <th>0</th>\n",
       "      <td>0.679495</td>\n",
       "      <td>1.325161</td>\n",
       "      <td>-0.837164</td>\n",
       "      <td>-0.097603</td>\n",
       "      <td>NaN</td>\n",
       "    </tr>\n",
       "    <tr>\n",
       "      <th>1</th>\n",
       "      <td>0.154308</td>\n",
       "      <td>1.377820</td>\n",
       "      <td>1.425324</td>\n",
       "      <td>1.289829</td>\n",
       "      <td>NaN</td>\n",
       "    </tr>\n",
       "    <tr>\n",
       "      <th>2</th>\n",
       "      <td>1.279130</td>\n",
       "      <td>0.687199</td>\n",
       "      <td>0.129051</td>\n",
       "      <td>1.008526</td>\n",
       "      <td>NaN</td>\n",
       "    </tr>\n",
       "    <tr>\n",
       "      <th>3</th>\n",
       "      <td>-0.088479</td>\n",
       "      <td>-0.868223</td>\n",
       "      <td>0.017421</td>\n",
       "      <td>-0.389674</td>\n",
       "      <td>NaN</td>\n",
       "    </tr>\n",
       "    <tr>\n",
       "      <th>4</th>\n",
       "      <td>-1.220710</td>\n",
       "      <td>-0.597094</td>\n",
       "      <td>-0.063997</td>\n",
       "      <td>-1.862062</td>\n",
       "      <td>NaN</td>\n",
       "    </tr>\n",
       "  </tbody>\n",
       "</table>\n",
       "</div>"
      ],
      "text/plain": [
       "          A         B         C         D    E\n",
       "0  0.679495  1.325161 -0.837164 -0.097603  NaN\n",
       "1  0.154308  1.377820  1.425324  1.289829  NaN\n",
       "2  1.279130  0.687199  0.129051  1.008526  NaN\n",
       "3 -0.088479 -0.868223  0.017421 -0.389674  NaN\n",
       "4 -1.220710 -0.597094 -0.063997 -1.862062  NaN"
      ]
     },
     "execution_count": 107,
     "metadata": {},
     "output_type": "execute_result"
    }
   ],
   "source": [
    "#To drop any rows that have missing data:data.iloc[[0,3,6,24], [0,5,6]]\n",
    "df4=pd.DataFrame(np.random.randn(5,5), columns=list('ABCDE'))\n",
    "df4['E']='NaN'\n",
    "df4\n"
   ]
  },
  {
   "cell_type": "code",
   "execution_count": null,
   "metadata": {
    "collapsed": true
   },
   "outputs": [],
   "source": []
  }
 ],
 "metadata": {
  "kernelspec": {
   "display_name": "Python 2",
   "language": "python",
   "name": "python2"
  },
  "language_info": {
   "codemirror_mode": {
    "name": "ipython",
    "version": 2
   },
   "file_extension": ".py",
   "mimetype": "text/x-python",
   "name": "python",
   "nbconvert_exporter": "python",
   "pygments_lexer": "ipython2",
   "version": "2.7.14"
  }
 },
 "nbformat": 4,
 "nbformat_minor": 2
}
